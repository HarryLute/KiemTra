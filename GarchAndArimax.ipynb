{
 "cells": [
  {
   "cell_type": "code",
   "execution_count": 1,
   "id": "371a60f5-754b-40c4-9909-729d8aed86c0",
   "metadata": {},
   "outputs": [],
   "source": [
    "import pandas as pd\n",
    "import numpy as np\n",
    "import statsmodels.api as sm\n",
    "from statsmodels.tsa.statespace.sarimax import SARIMAX\n",
    "import matplotlib.pyplot as plt\n",
    "from arch import arch_model"
   ]
  },
  {
   "cell_type": "code",
   "execution_count": 2,
   "id": "ac1d3d0a-bb0d-437e-ad7f-2031ddf18101",
   "metadata": {},
   "outputs": [
    {
     "data": {
      "text/html": [
       "<div>\n",
       "<style scoped>\n",
       "    .dataframe tbody tr th:only-of-type {\n",
       "        vertical-align: middle;\n",
       "    }\n",
       "\n",
       "    .dataframe tbody tr th {\n",
       "        vertical-align: top;\n",
       "    }\n",
       "\n",
       "    .dataframe thead th {\n",
       "        text-align: right;\n",
       "    }\n",
       "</style>\n",
       "<table border=\"1\" class=\"dataframe\">\n",
       "  <thead>\n",
       "    <tr style=\"text-align: right;\">\n",
       "      <th></th>\n",
       "      <th>date</th>\n",
       "      <th>truong_1</th>\n",
       "      <th>truong_2</th>\n",
       "      <th>truong_3</th>\n",
       "      <th>truong_4</th>\n",
       "      <th>truong_5</th>\n",
       "    </tr>\n",
       "  </thead>\n",
       "  <tbody>\n",
       "    <tr>\n",
       "      <th>0</th>\n",
       "      <td>02.01.2013</td>\n",
       "      <td>0</td>\n",
       "      <td>59</td>\n",
       "      <td>22154</td>\n",
       "      <td>999.00</td>\n",
       "      <td>1</td>\n",
       "    </tr>\n",
       "    <tr>\n",
       "      <th>1</th>\n",
       "      <td>03.01.2013</td>\n",
       "      <td>0</td>\n",
       "      <td>25</td>\n",
       "      <td>2552</td>\n",
       "      <td>899.00</td>\n",
       "      <td>1</td>\n",
       "    </tr>\n",
       "    <tr>\n",
       "      <th>2</th>\n",
       "      <td>05.01.2013</td>\n",
       "      <td>0</td>\n",
       "      <td>25</td>\n",
       "      <td>2552</td>\n",
       "      <td>899.00</td>\n",
       "      <td>-1</td>\n",
       "    </tr>\n",
       "    <tr>\n",
       "      <th>3</th>\n",
       "      <td>06.01.2013</td>\n",
       "      <td>0</td>\n",
       "      <td>25</td>\n",
       "      <td>2554</td>\n",
       "      <td>1709.05</td>\n",
       "      <td>1</td>\n",
       "    </tr>\n",
       "    <tr>\n",
       "      <th>4</th>\n",
       "      <td>15.01.2013</td>\n",
       "      <td>0</td>\n",
       "      <td>25</td>\n",
       "      <td>2555</td>\n",
       "      <td>1099.00</td>\n",
       "      <td>1</td>\n",
       "    </tr>\n",
       "  </tbody>\n",
       "</table>\n",
       "</div>"
      ],
      "text/plain": [
       "         date  truong_1  truong_2  truong_3  truong_4  truong_5\n",
       "0  02.01.2013         0        59     22154    999.00         1\n",
       "1  03.01.2013         0        25      2552    899.00         1\n",
       "2  05.01.2013         0        25      2552    899.00        -1\n",
       "3  06.01.2013         0        25      2554   1709.05         1\n",
       "4  15.01.2013         0        25      2555   1099.00         1"
      ]
     },
     "execution_count": 2,
     "metadata": {},
     "output_type": "execute_result"
    }
   ],
   "source": [
    "df = pd.read_csv('data-kiem-tra-1.csv')\n",
    "df.head()"
   ]
  },
  {
   "cell_type": "code",
   "execution_count": 3,
   "id": "a61e322e-fcae-4bcb-b6dd-4d95efba4c19",
   "metadata": {},
   "outputs": [
    {
     "name": "stdout",
     "output_type": "stream",
     "text": [
      "<class 'pandas.core.frame.DataFrame'>\n",
      "RangeIndex: 481822 entries, 0 to 481821\n",
      "Data columns (total 6 columns):\n",
      " #   Column    Non-Null Count   Dtype  \n",
      "---  ------    --------------   -----  \n",
      " 0   date      481822 non-null  object \n",
      " 1   truong_1  481822 non-null  int64  \n",
      " 2   truong_2  481822 non-null  int64  \n",
      " 3   truong_3  481822 non-null  int64  \n",
      " 4   truong_4  481822 non-null  float64\n",
      " 5   truong_5  481822 non-null  int64  \n",
      "dtypes: float64(1), int64(4), object(1)\n",
      "memory usage: 22.1+ MB\n"
     ]
    }
   ],
   "source": [
    "df.info()"
   ]
  },
  {
   "cell_type": "code",
   "execution_count": 8,
   "id": "02df4047-2015-4398-be6d-96a06c2520b7",
   "metadata": {},
   "outputs": [
    {
     "data": {
      "text/html": [
       "<div>\n",
       "<style scoped>\n",
       "    .dataframe tbody tr th:only-of-type {\n",
       "        vertical-align: middle;\n",
       "    }\n",
       "\n",
       "    .dataframe tbody tr th {\n",
       "        vertical-align: top;\n",
       "    }\n",
       "\n",
       "    .dataframe thead th {\n",
       "        text-align: right;\n",
       "    }\n",
       "</style>\n",
       "<table border=\"1\" class=\"dataframe\">\n",
       "  <thead>\n",
       "    <tr style=\"text-align: right;\">\n",
       "      <th></th>\n",
       "      <th>date</th>\n",
       "      <th>truong_1</th>\n",
       "      <th>truong_2</th>\n",
       "      <th>truong_3</th>\n",
       "      <th>truong_4</th>\n",
       "      <th>truong_5</th>\n",
       "    </tr>\n",
       "  </thead>\n",
       "  <tbody>\n",
       "    <tr>\n",
       "      <th>85124</th>\n",
       "      <td>2013-01-01</td>\n",
       "      <td>0</td>\n",
       "      <td>54</td>\n",
       "      <td>11562</td>\n",
       "      <td>299.0</td>\n",
       "      <td>1</td>\n",
       "    </tr>\n",
       "    <tr>\n",
       "      <th>58034</th>\n",
       "      <td>2013-01-01</td>\n",
       "      <td>0</td>\n",
       "      <td>14</td>\n",
       "      <td>14014</td>\n",
       "      <td>299.0</td>\n",
       "      <td>1</td>\n",
       "    </tr>\n",
       "    <tr>\n",
       "      <th>29617</th>\n",
       "      <td>2013-01-01</td>\n",
       "      <td>0</td>\n",
       "      <td>27</td>\n",
       "      <td>5636</td>\n",
       "      <td>2390.0</td>\n",
       "      <td>1</td>\n",
       "    </tr>\n",
       "    <tr>\n",
       "      <th>87873</th>\n",
       "      <td>2013-01-01</td>\n",
       "      <td>0</td>\n",
       "      <td>54</td>\n",
       "      <td>9301</td>\n",
       "      <td>1389.0</td>\n",
       "      <td>1</td>\n",
       "    </tr>\n",
       "    <tr>\n",
       "      <th>108918</th>\n",
       "      <td>2013-01-01</td>\n",
       "      <td>0</td>\n",
       "      <td>46</td>\n",
       "      <td>16497</td>\n",
       "      <td>149.0</td>\n",
       "      <td>1</td>\n",
       "    </tr>\n",
       "  </tbody>\n",
       "</table>\n",
       "</div>"
      ],
      "text/plain": [
       "             date  truong_1  truong_2  truong_3  truong_4  truong_5\n",
       "85124  2013-01-01         0        54     11562     299.0         1\n",
       "58034  2013-01-01         0        14     14014     299.0         1\n",
       "29617  2013-01-01         0        27      5636    2390.0         1\n",
       "87873  2013-01-01         0        54      9301    1389.0         1\n",
       "108918 2013-01-01         0        46     16497     149.0         1"
      ]
     },
     "execution_count": 8,
     "metadata": {},
     "output_type": "execute_result"
    }
   ],
   "source": [
    "df['date'] = pd.to_datetime(df['date'], format = \"%d.%m.%Y\")\n",
    "df = df.sort_values(by = 'date')\n",
    "df.head()"
   ]
  },
  {
   "cell_type": "code",
   "execution_count": 26,
   "id": "d5c15810-fd42-45a0-b3ac-0aaf2de8e7bb",
   "metadata": {},
   "outputs": [
    {
     "name": "stderr",
     "output_type": "stream",
     "text": [
      "C:\\Users\\Admin\\AppData\\Local\\Programs\\Python\\Python311\\Lib\\site-packages\\arch\\univariate\\base.py:311: DataScaleWarning: y is poorly scaled, which may affect convergence of the optimizer when\n",
      "estimating the model parameters. The scale of y is 3.947e+07. Parameter\n",
      "estimation work better when this value is between 1 and 1000. The recommended\n",
      "rescaling is 0.01 * y.\n",
      "\n",
      "This warning can be disabled by either rescaling y before initializing the\n",
      "model or by setting rescale=False.\n",
      "\n",
      "  warnings.warn(\n"
     ]
    },
    {
     "name": "stdout",
     "output_type": "stream",
     "text": [
      "Iteration:      1,   Func. Count:      6,   Neg. LLF: 6635780.449850403\n",
      "Iteration:      2,   Func. Count:     13,   Neg. LLF: 4895106.47485783\n",
      "Iteration:      3,   Func. Count:     18,   Neg. LLF: 4919260.92477764\n",
      "Iteration:      4,   Func. Count:     25,   Neg. LLF: 4906135.820447984\n",
      "Iteration:      5,   Func. Count:     32,   Neg. LLF: 4895086.206107392\n",
      "Iteration:      6,   Func. Count:     37,   Neg. LLF: 4895098.487474688\n",
      "Iteration:      7,   Func. Count:     43,   Neg. LLF: 4895087.002562696\n",
      "Iteration:      8,   Func. Count:     49,   Neg. LLF: 4895083.697000177\n",
      "Iteration:      9,   Func. Count:     54,   Neg. LLF: 4895083.65703072\n",
      "Iteration:     10,   Func. Count:     59,   Neg. LLF: 4895083.656879569\n",
      "Iteration:     11,   Func. Count:     64,   Neg. LLF: 4895094.01194496\n",
      "Iteration:     12,   Func. Count:     73,   Neg. LLF: 4895083.656852481\n",
      "Optimization terminated successfully    (Exit mode 0)\n",
      "            Current function value: 4895083.656848747\n",
      "            Iterations: 12\n",
      "            Function evaluations: 83\n",
      "            Gradient evaluations: 12\n"
     ]
    }
   ],
   "source": [
    "returns = df['truong_3']\n",
    "model = arch_model(returns, vol='Garch', p=1, q=1)\n",
    "model_fit = model.fit()"
   ]
  },
  {
   "cell_type": "code",
   "execution_count": 27,
   "id": "be5b266f-9587-4dc6-8907-d402432ea130",
   "metadata": {},
   "outputs": [
    {
     "name": "stdout",
     "output_type": "stream",
     "text": [
      "                     Constant Mean - GARCH Model Results                      \n",
      "==============================================================================\n",
      "Dep. Variable:               truong_3   R-squared:                       0.000\n",
      "Mean Model:             Constant Mean   Adj. R-squared:                  0.000\n",
      "Vol Model:                      GARCH   Log-Likelihood:           -4.89508e+06\n",
      "Distribution:                  Normal   AIC:                       9.79018e+06\n",
      "Method:            Maximum Likelihood   BIC:                       9.79022e+06\n",
      "                                        No. Observations:               481822\n",
      "Date:                Tue, Jun 04 2024   Df Residuals:                   481821\n",
      "Time:                        09:19:42   Df Model:                            1\n",
      "                                 Mean Model                                 \n",
      "============================================================================\n",
      "                 coef    std err          t      P>|t|      95.0% Conf. Int.\n",
      "----------------------------------------------------------------------------\n",
      "mu         1.0083e+04      9.341   1079.471      0.000 [1.006e+04,1.010e+04]\n",
      "                              Volatility Model                              \n",
      "============================================================================\n",
      "                 coef    std err          t      P>|t|      95.0% Conf. Int.\n",
      "----------------------------------------------------------------------------\n",
      "omega      7.8945e+05  2.957e+04     26.702 4.491e-157 [7.315e+05,8.474e+05]\n",
      "alpha[1]       0.0348  7.865e-04     44.294      0.000 [3.330e-02,3.638e-02]\n",
      "beta[1]        0.9452  1.401e-03    674.735      0.000     [  0.942,  0.948]\n",
      "============================================================================\n",
      "\n",
      "Covariance estimator: robust\n"
     ]
    }
   ],
   "source": [
    "print(model_fit.summary())"
   ]
  },
  {
   "cell_type": "code",
   "execution_count": 28,
   "id": "90b017fb-7f54-4ccb-bd22-fa91c40687dd",
   "metadata": {},
   "outputs": [],
   "source": [
    "forecast_horizon = 10  \n",
    "forecast = model_fit.forecast(horizon=forecast_horizon)"
   ]
  },
  {
   "cell_type": "code",
   "execution_count": 29,
   "id": "afb8eacb-76e4-47f1-bd80-a9cbb7350a32",
   "metadata": {},
   "outputs": [
    {
     "data": {
      "image/png": "[encoded data removed]",
      "text/plain": [
       "<Figure size 1000x600 with 1 Axes>"
      ]
     },
     "metadata": {},
     "output_type": "display_data"
    }
   ],
   "source": [
    "plt.figure(figsize=(10, 6))\n",
    "plt.plot(returns, label='Observed Returns')\n",
    "plt.plot(forecast.variance[-forecast_horizon:], label='Forecasted Variance')\n",
    "plt.legend()\n",
    "plt.show()"
   ]
  },
  {
   "cell_type": "code",
   "execution_count": null,
   "id": "8eb81e38-3808-48f3-b405-874a1dc3c3c9",
   "metadata": {},
   "outputs": [],
   "source": []
  }
 ],
 "metadata": {
  "kernelspec": {
   "display_name": "Python 3 (ipykernel)",
   "language": "python",
   "name": "python3"
  },
  "language_info": {
   "codemirror_mode": {
    "name": "ipython",
    "version": 3
   },
   "file_extension": ".py",
   "mimetype": "text/x-python",
   "name": "python",
   "nbconvert_exporter": "python",
   "pygments_lexer": "ipython3",
   "version": "3.11.0"
  }
 },
 "nbformat": 4,
 "nbformat_minor": 5
}
